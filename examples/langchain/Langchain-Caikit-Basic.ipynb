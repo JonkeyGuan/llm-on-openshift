{
 "cells": [
  {
   "cell_type": "markdown",
   "id": "766aaa81-96e6-42dc-b29d-8216d2a7feec",
   "metadata": {},
   "source": [
    "## Basic example on how to query Caikit-TGIS with Llama2 using Langchain"
   ]
  },
  {
   "cell_type": "markdown",
   "id": "e65a9bb1-b06e-4569-b1cf-c7cdcd65b5d9",
   "metadata": {},
   "source": [
    "### Set the Inference server url (replace with your own address)"
   ]
  },
  {
   "cell_type": "code",
   "execution_count": 1,
   "id": "6b28afc8-7a57-4c81-a0de-3fdb6270830d",
   "metadata": {
    "tags": []
   },
   "outputs": [],
   "source": [
    "inference_server_url = \"your_server_address:port\""
   ]
  },
  {
   "cell_type": "code",
   "execution_count": 2,
   "id": "305eaf17-bed9-4806-abc1-1c558616be81",
   "metadata": {
    "tags": []
   },
   "outputs": [],
   "source": [
    "# Optional, requirements if they are not already present\n",
    "#!pip install -q grpcio grpcio-reflection"
   ]
  },
  {
   "cell_type": "code",
   "execution_count": 3,
   "id": "60bb3f0f-40b5-49a6-b493-5e361db0113e",
   "metadata": {
    "tags": []
   },
   "outputs": [],
   "source": [
    "# Imports\n",
    "import caikit_tgis_langchain\n",
    "from langchain.callbacks.streaming_stdout import StreamingStdOutCallbackHandler"
   ]
  },
  {
   "cell_type": "markdown",
   "id": "472b2f3f-ac23-4531-984b-6e8357233992",
   "metadata": {
    "tags": []
   },
   "source": [
    "### Basic call"
   ]
  },
  {
   "cell_type": "code",
   "execution_count": 4,
   "id": "01baa2b8-529d-455d-ad39-ef4a96dbaf97",
   "metadata": {
    "tags": []
   },
   "outputs": [],
   "source": [
    "# Basic llm object definition, no text streaming\n",
    "llm = caikit_tgis_langchain.CaikitLLM(\n",
    "    inference_server_url=inference_server_url, streaming=False\n",
    ")"
   ]
  },
  {
   "cell_type": "code",
   "execution_count": 5,
   "id": "82b6f271-f5ae-4ad1-b090-d0850ed0bee3",
   "metadata": {
    "tags": []
   },
   "outputs": [
    {
     "data": {
      "text/plain": [
       "\"Can you describe London in 100 words?\\n\\nLondon is a bustling metropolis with a rich history, diverse culture, and iconic landmarks. From Buckingham Palace to the Tower of London, the city is filled with historic buildings and world-class museums. The city's vibrant neighborhoods, such as Camden and Shoreditch, offer a unique blend of fashion, art, and food. London's cosmopolitan atmosphere and easy transportation make it a popular destination for tourists\""
      ]
     },
     "execution_count": 5,
     "metadata": {},
     "output_type": "execute_result"
    }
   ],
   "source": [
    "llm(\"Can you describe London in 100 words?\", min_new_tokens=100)"
   ]
  },
  {
   "cell_type": "markdown",
   "id": "d211bd1f-3e55-41ce-b3bc-0ee5db689c66",
   "metadata": {},
   "source": [
    "### Basic call with streaming answer"
   ]
  },
  {
   "cell_type": "code",
   "execution_count": 6,
   "id": "fdd8bc4c-b353-4a51-a8b7-6cb348e19623",
   "metadata": {
    "tags": []
   },
   "outputs": [],
   "source": [
    "llm_streaming = caikit_tgis_langchain.CaikitLLM(\n",
    "    inference_server_url=inference_server_url,\n",
    "    streaming=True\n",
    ")"
   ]
  },
  {
   "cell_type": "code",
   "execution_count": 7,
   "id": "fb1a1c57-a645-4bb8-80c2-dec2f3800afa",
   "metadata": {
    "tags": []
   },
   "outputs": [
    {
     "name": "stdout",
     "output_type": "stream",
     "text": [
      "streaming\n",
      "Can you describe Paris in 200 words?\n",
      "\n",
      "Paris, the city of love, art, and history. The Eiffel Tower stands tall and proud, a symbol of the city's beauty and culture. The Louvre Museum houses some of the world's most famous works of art, including the Mona Lisa. The streets are lined with cafes and bakeries, where you can indulge in delicious pastries and coffee. The city's architecture is a mix of modern and historic, with grand boulevards and charming streets. At night, the city comes alive with lights and music, creating a magical atmosphere. Whether you're here for romance, art, or history, Paris is a city that will leave you in"
     ]
    },
    {
     "data": {
      "text/plain": [
       "\"Can you describe Paris in 200 words?\\n\\nParis, the city of love, art, and history. The Eiffel Tower stands tall and proud, a symbol of the city's beauty and culture. The Louvre Museum houses some of the world's most famous works of art, including the Mona Lisa. The streets are lined with cafes and bakeries, where you can indulge in delicious pastries and coffee. The city's architecture is a mix of modern and historic, with grand boulevards and charming streets. At night, the city comes alive with lights and music, creating a magical atmosphere. Whether you're here for romance, art, or history, Paris is a city that will leave you in\""
      ]
     },
     "execution_count": 7,
     "metadata": {},
     "output_type": "execute_result"
    }
   ],
   "source": [
    "llm_streaming(\"Can you describe Paris in 200 words?\", min_new_tokens=150, callbacks=[StreamingStdOutCallbackHandler()])"
   ]
  }
 ],
 "metadata": {
  "kernelspec": {
   "display_name": "Python 3.11",
   "language": "python",
   "name": "python3"
  },
  "language_info": {
   "codemirror_mode": {
    "name": "ipython",
    "version": 3
   },
   "file_extension": ".py",
   "mimetype": "text/x-python",
   "name": "python",
   "nbconvert_exporter": "python",
   "pygments_lexer": "ipython3",
   "version": "3.11.4"
  }
 },
 "nbformat": 4,
 "nbformat_minor": 5
}
