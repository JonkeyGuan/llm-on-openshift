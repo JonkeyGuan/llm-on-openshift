{
 "cells": [
  {
   "cell_type": "markdown",
   "id": "766aaa81-96e6-42dc-b29d-8216d2a7feec",
   "metadata": {},
   "source": [
    "## Basic example on how to query Caikit-TGIS with Llama2 using Langchain"
   ]
  },
  {
   "cell_type": "markdown",
   "id": "e65a9bb1-b06e-4569-b1cf-c7cdcd65b5d9",
   "metadata": {},
   "source": [
    "### Set the Inference server url (replace with your own address) and the model-id"
   ]
  },
  {
   "cell_type": "code",
   "execution_count": 1,
   "id": "6b28afc8-7a57-4c81-a0de-3fdb6270830d",
   "metadata": {
    "tags": []
   },
   "outputs": [],
   "source": [
    "inference_server_url = \"caikit-example-isvc-predictor-kserve-demo.apps.aisrhods-next.j61u.p1.openshiftapps.com:443\"\n",
    "model_id = \"Llama-2-7b-chat-hf\""
   ]
  },
  {
   "cell_type": "code",
   "execution_count": 2,
   "id": "305eaf17-bed9-4806-abc1-1c558616be81",
   "metadata": {
    "collapsed": true,
    "jupyter": {
     "outputs_hidden": true
    },
    "tags": []
   },
   "outputs": [
    {
     "name": "stdout",
     "output_type": "stream",
     "text": [
      "\u001b[31mERROR: pip's dependency resolver does not currently take into account all the packages that are installed. This behaviour is the source of the following dependency conflicts.\n",
      "kfp 1.8.22 requires protobuf<4,>=3.13.0, but you have protobuf 4.24.3 which is incompatible.\n",
      "kfp-pipeline-spec 0.1.16 requires protobuf<4,>=3.13.0, but you have protobuf 4.24.3 which is incompatible.\n",
      "mysql-connector-python 8.0.33 requires protobuf<=3.20.3,>=3.11.0, but you have protobuf 4.24.3 which is incompatible.\n",
      "ray 2.5.0 requires grpcio<=1.51.3,>=1.42.0; python_version >= \"3.10\" and sys_platform != \"darwin\", but you have grpcio 1.59.0 which is incompatible.\u001b[0m\u001b[31m\n",
      "\u001b[0m"
     ]
    }
   ],
   "source": [
    "# Optional, requirements\n",
    "!pip install -q grpcio grpcio-reflection"
   ]
  },
  {
   "cell_type": "code",
   "execution_count": 7,
   "id": "60bb3f0f-40b5-49a6-b493-5e361db0113e",
   "metadata": {
    "tags": []
   },
   "outputs": [],
   "source": [
    "# Imports\n",
    "import caikit_tgis_langchain\n",
    "from langchain.callbacks.streaming_stdout import StreamingStdOutCallbackHandler"
   ]
  },
  {
   "cell_type": "markdown",
   "id": "472b2f3f-ac23-4531-984b-6e8357233992",
   "metadata": {
    "tags": []
   },
   "source": [
    "### Basic call"
   ]
  },
  {
   "cell_type": "code",
   "execution_count": 8,
   "id": "01baa2b8-529d-455d-ad39-ef4a96dbaf97",
   "metadata": {
    "tags": []
   },
   "outputs": [],
   "source": [
    "# Basic llm object definition, no text streaming\n",
    "llm = caikit_tgis_langchain.CaikitLLM(\n",
    "    inference_server_url=inference_server_url,\n",
    "    model_id=model_id,\n",
    "    streaming=False\n",
    ")"
   ]
  },
  {
   "cell_type": "code",
   "execution_count": 9,
   "id": "82b6f271-f5ae-4ad1-b090-d0850ed0bee3",
   "metadata": {
    "tags": []
   },
   "outputs": [
    {
     "data": {
      "text/plain": [
       "\"Can you describe London in 100 words?\\n\\nLondon is a bustling metropolis with a rich history, diverse culture, and iconic landmarks. From Buckingham Palace to the Tower of London, the city is filled with historic buildings and world-class museums. The city's vibrant neighborhoods, such as Camden and Shoreditch, offer a unique blend of fashion, art, and food. London's cosmopolitan atmosphere and easy transportation make it a popular destination for tourists and locals alike.\""
      ]
     },
     "execution_count": 9,
     "metadata": {},
     "output_type": "execute_result"
    }
   ],
   "source": [
    "llm(\"Can you describe London in 100 words?\", min_new_tokens=200)"
   ]
  },
  {
   "cell_type": "markdown",
   "id": "d211bd1f-3e55-41ce-b3bc-0ee5db689c66",
   "metadata": {},
   "source": [
    "### Basic call with streaming answer"
   ]
  },
  {
   "cell_type": "code",
   "execution_count": 10,
   "id": "fdd8bc4c-b353-4a51-a8b7-6cb348e19623",
   "metadata": {
    "tags": []
   },
   "outputs": [],
   "source": [
    "llm_streaming = caikit_tgis_langchain.CaikitLLM(\n",
    "    inference_server_url=inference_server_url,\n",
    "    model_id=model_id,\n",
    "    streaming=True\n",
    ")"
   ]
  },
  {
   "cell_type": "code",
   "execution_count": 11,
   "id": "fb1a1c57-a645-4bb8-80c2-dec2f3800afa",
   "metadata": {
    "tags": []
   },
   "outputs": [
    {
     "name": "stdout",
     "output_type": "stream",
     "text": [
      "Can you describe Ottawa in 300 words?\n",
      "\n",
      "Ottawa is the capital city of Canada, located in the eastern province of Ontario. It is situated on the Ottawa River, which separates the city from the province of Quebec. Ottawa is a vibrant and multicultural city, with a diverse population of over 900,000 people. The city is home to many cultural attractions, including the Parliament Buildings, the National Gallery of Canada, and the Canadian Museum of History. Ottawa is also known for its beautiful parks and green spaces, including the Rideau Canal, a UNESCO World Heritage Site. The city has a strong economy, driven by the public sector, including the federal government and various embassies and international organizations. Ottawa is a popular destination for tourists, with many festivals and events throughout the year, including the Winterlude festival in the winter and the Canada Day celebrations in July."
     ]
    },
    {
     "data": {
      "text/plain": [
       "'Can you describe Ottawa in 300 words?\\n\\nOttawa is the capital city of Canada, located in the eastern province of Ontario. It is situated on the Ottawa River, which separates the city from the province of Quebec. Ottawa is a vibrant and multicultural city, with a diverse population of over 900,000 people. The city is home to many cultural attractions, including the Parliament Buildings, the National Gallery of Canada, and the Canadian Museum of History. Ottawa is also known for its beautiful parks and green spaces, including the Rideau Canal, a UNESCO World Heritage Site. The city has a strong economy, driven by the public sector, including the federal government and various embassies and international organizations. Ottawa is a popular destination for tourists, with many festivals and events throughout the year, including the Winterlude festival in the winter and the Canada Day celebrations in July.'"
      ]
     },
     "execution_count": 11,
     "metadata": {},
     "output_type": "execute_result"
    }
   ],
   "source": [
    "llm_streaming(\"Can you describe Ottawa in 300 words?\", min_new_tokens=300, callbacks=[StreamingStdOutCallbackHandler()])"
   ]
  }
 ],
 "metadata": {
  "kernelspec": {
   "display_name": "Python 3.11",
   "language": "python",
   "name": "python3"
  },
  "language_info": {
   "codemirror_mode": {
    "name": "ipython",
    "version": 3
   },
   "file_extension": ".py",
   "mimetype": "text/x-python",
   "name": "python",
   "nbconvert_exporter": "python",
   "pygments_lexer": "ipython3",
   "version": "3.11.4"
  }
 },
 "nbformat": 4,
 "nbformat_minor": 5
}
