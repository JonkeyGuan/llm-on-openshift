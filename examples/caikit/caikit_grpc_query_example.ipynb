{
 "cells": [
  {
   "cell_type": "markdown",
   "id": "c49886eb-c7ba-4ed7-9d6b-75eed7cc645c",
   "metadata": {},
   "source": [
    "# gRPC Text Generation Inference with Caikit+TGIS Serving"
   ]
  },
  {
   "cell_type": "markdown",
   "id": "97902fbb-37ea-41b3-a0e2-31580b0e7f6c",
   "metadata": {
    "tags": []
   },
   "source": [
    "### Set the Inference server url (replace with your own address)"
   ]
  },
  {
   "cell_type": "code",
   "execution_count": 1,
   "id": "e16ab60c-8b97-4885-bcd0-df92b80ec779",
   "metadata": {
    "tags": []
   },
   "outputs": [],
   "source": [
    "inference_server_url = \"your_server_address:port\""
   ]
  },
  {
   "cell_type": "code",
   "execution_count": 2,
   "id": "8a83a615-62f4-4fcf-924c-a9096a3d511c",
   "metadata": {
    "tags": []
   },
   "outputs": [],
   "source": [
    "# Optional, requirements if they are not already present\n",
    "#!pip install grpcio grpcio-reflection"
   ]
  },
  {
   "cell_type": "markdown",
   "id": "61811f49-2418-4b67-b011-c0466457b07b",
   "metadata": {},
   "source": [
    "### Imports\n",
    "Note: all proto definition files are under the `pb2` directory"
   ]
  },
  {
   "cell_type": "code",
   "execution_count": 3,
   "id": "9a8ecde2-daeb-493a-b7c9-f3ac52222fc4",
   "metadata": {},
   "outputs": [],
   "source": [
    "import grpc\n",
    "from grpc_reflection.v1alpha.proto_reflection_descriptor_database import ProtoReflectionDescriptorDatabase\n",
    "from google.protobuf.descriptor_pool import DescriptorPool\n",
    "import sys\n",
    "sys.path.insert(0, \"./pb2\")\n",
    "import nlpservice_pb2_grpc\n",
    "import nlpservice_pb2"
   ]
  },
  {
   "cell_type": "markdown",
   "id": "aad51945-3e61-4cdb-8739-41d60f59eb7c",
   "metadata": {
    "tags": []
   },
   "source": [
    "### Create the channel with self-signed certificate\n",
    "\n",
    "Note: to extract the certificate chain, you can use the following command:\n",
    "\n",
    "`openssl s_client -showcerts -verify 5 -connect your_server_address:port < /dev/null |    awk '/BEGIN CERTIFICATE/,/END CERTIFICATE/{ if(/BEGIN CERTIFICATE/){a++}; out=\"cert\"a\".pem\"; print >out}'`"
   ]
  },
  {
   "cell_type": "code",
   "execution_count": 4,
   "id": "48bdca32-2ac2-47c0-8c64-d95f06826f70",
   "metadata": {},
   "outputs": [],
   "source": [
    "with open('certificate.pem', 'rb') as f:\n",
    "    creds = grpc.ssl_channel_credentials(f.read())\n",
    "\n",
    "server_address = inference_server_url\n",
    "\n",
    "channel = grpc.secure_channel(server_address, creds)"
   ]
  },
  {
   "cell_type": "markdown",
   "id": "d38d0c22-314f-4427-92f5-6624856c68be",
   "metadata": {},
   "source": [
    "### Optional: Service, methods and parameters discovery"
   ]
  },
  {
   "cell_type": "code",
   "execution_count": 5,
   "id": "2261df2e-f066-402c-a36a-62adbd5f893c",
   "metadata": {},
   "outputs": [
    {
     "name": "stdout",
     "output_type": "stream",
     "text": [
      "Available services: ['caikit.runtime.Nlp.NlpService', 'caikit.runtime.Nlp.NlpTrainingService', 'caikit.runtime.training.TrainingManagement', 'grpc.reflection.v1alpha.ServerReflection', 'mmesh.ModelRuntime']\n"
     ]
    }
   ],
   "source": [
    "# List available services\n",
    "reflection_db = ProtoReflectionDescriptorDatabase(channel)\n",
    "services = reflection_db.get_services()\n",
    "print(f'Available services: {services}')"
   ]
  },
  {
   "cell_type": "code",
   "execution_count": 6,
   "id": "28880bd2-02d6-4a80-b822-c404e60e85c1",
   "metadata": {},
   "outputs": [
    {
     "name": "stdout",
     "output_type": "stream",
     "text": [
      "Available methods:\n",
      "TextClassificationTaskPredict\n",
      "TextGenerationTaskPredict\n",
      "ServerStreamingTextGenerationTaskPredict\n",
      "TokenizationTaskPredict\n",
      "TokenClassificationTaskPredict\n",
      "BidiStreamingTokenClassificationTaskPredict\n"
     ]
    }
   ],
   "source": [
    "# Selecting the NlpService, list available methods\n",
    "desc_pool = DescriptorPool(reflection_db)\n",
    "nlp_service = desc_pool.FindServiceByName('caikit.runtime.Nlp.NlpService')\n",
    "print('Available methods:')\n",
    "for m in nlp_service.methods:\n",
    "    print(m.name)"
   ]
  },
  {
   "cell_type": "code",
   "execution_count": 7,
   "id": "75d00db7-19f8-4270-84d8-b5f9cad93bbd",
   "metadata": {},
   "outputs": [
    {
     "name": "stdout",
     "output_type": "stream",
     "text": [
      "text, 9, default: \n",
      "preserve_input_text, 8, default: False\n",
      "max_new_tokens, 3, default: 0\n",
      "min_new_tokens, 3, default: 0\n",
      "device, 9, default: \n"
     ]
    }
   ],
   "source": [
    "# Selecting the TextGenerationTaskPredict method, list available fields with types (num id) and default values\n",
    "# Types reference: https://protobuf.dev/reference/csharp/api-docs/class/google/protobuf/well-known-types/field/types\n",
    "method_desc = nlp_service.FindMethodByName('TextGenerationTaskPredict')\n",
    "for field in method_desc.input_type.fields:\n",
    "    print(f'{field.name}, {field.type}, default: {field.default_value}')"
   ]
  },
  {
   "cell_type": "markdown",
   "id": "463b84d2-4fd1-44ed-9f8b-11726a1408fe",
   "metadata": {},
   "source": [
    "### Query the service"
   ]
  },
  {
   "cell_type": "code",
   "execution_count": 8,
   "id": "5a62ab7a-5e54-4ec3-94d9-946b1058803c",
   "metadata": {},
   "outputs": [],
   "source": [
    "# Stub initialization to get easy access to methods\n",
    "NlpServiceStub = nlpservice_pb2_grpc.NlpServiceStub(channel)"
   ]
  },
  {
   "cell_type": "code",
   "execution_count": 9,
   "id": "d2bdc842-d88b-4117-9664-9a7950044869",
   "metadata": {},
   "outputs": [],
   "source": [
    "# Needed additional parameter to query the model properly\n",
    "model_id = 'Llama-2-7b-chat-hf'\n",
    "metadata = [(\"mm-model-id\", model_id)]"
   ]
  },
  {
   "cell_type": "code",
   "execution_count": 10,
   "id": "e3e5ddb9-e41e-45e9-9f86-68a7ab384665",
   "metadata": {},
   "outputs": [],
   "source": [
    "# Our input\n",
    "text_input = 'Where is Paris'\n",
    "preserve_input_text = False\n",
    "max_new_tokens = 200\n",
    "min_new_tokens = 100"
   ]
  },
  {
   "cell_type": "code",
   "execution_count": 11,
   "id": "94758e12-1101-4030-b639-06b00d417b7a",
   "metadata": {},
   "outputs": [
    {
     "name": "stdout",
     "output_type": "stream",
     "text": [
      "Where is Paris?\n",
      "Where is Paris located?\n",
      "Paris is the capital and largest city of France, located in the northern central part of the country. It is situated on the River Seine and is known for its iconic landmarks such as the Eiffel Tower, Notre-Dame Cathedral, and the Louvre Museum.\n",
      "Paris is located in the Île-de-France region, which is the most populous region in France. The city is situated about 100\n"
     ]
    }
   ],
   "source": [
    "# Let's get some answers!\n",
    "request = nlpservice_pb2.textgenerationtaskrequest__pb2.TextGenerationTaskRequest(text=text_input,\n",
    "                                                                                 preserve_input_text=preserve_input_text,\n",
    "                                                                                 max_new_tokens=max_new_tokens,\n",
    "                                                                                 min_new_tokens=min_new_tokens)\n",
    "response = NlpServiceStub.TextGenerationTaskPredict(request=request, metadata=metadata)\n",
    "print(response.generated_text)"
   ]
  },
  {
   "cell_type": "markdown",
   "id": "77a19369-cf45-4d1a-bd68-436569e5fcbf",
   "metadata": {},
   "source": [
    "### Query the service - Streaming answer"
   ]
  },
  {
   "cell_type": "code",
   "execution_count": 12,
   "id": "d3730013-1ffd-4a76-ad28-dbe5074c022c",
   "metadata": {},
   "outputs": [
    {
     "name": "stdout",
     "output_type": "stream",
     "text": [
      "Where is Paris?\n",
      "Where is Paris located?\n",
      "Paris is the capital and largest city of France, located in the northern central part of the country. It is situated on the River Seine and is known for its iconic landmarks such as the Eiffel Tower, Notre-Dame Cathedral, and the Louvre Museum.\n",
      "Paris is located in the Île-de-France region, which is the most populous region in France. The city is situated about 100"
     ]
    }
   ],
   "source": [
    "# Let's get some streaming answers!\n",
    "request = nlpservice_pb2.textgenerationtaskrequest__pb2.TextGenerationTaskRequest(text=text_input,\n",
    "                                                                                 preserve_input_text=preserve_input_text,\n",
    "                                                                                 max_new_tokens=max_new_tokens,\n",
    "                                                                                 min_new_tokens=min_new_tokens)\n",
    "for response in NlpServiceStub.ServerStreamingTextGenerationTaskPredict(request=request, metadata=metadata):\n",
    "    print(response.generated_text, end =\"\")"
   ]
  }
 ],
 "metadata": {
  "kernelspec": {
   "display_name": "Python 3.11",
   "language": "python",
   "name": "python3"
  },
  "language_info": {
   "codemirror_mode": {
    "name": "ipython",
    "version": 3
   },
   "file_extension": ".py",
   "mimetype": "text/x-python",
   "name": "python",
   "nbconvert_exporter": "python",
   "pygments_lexer": "ipython3",
   "version": "3.11.4"
  }
 },
 "nbformat": 4,
 "nbformat_minor": 5
}
